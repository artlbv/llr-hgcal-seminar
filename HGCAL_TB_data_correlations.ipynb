{
 "cells": [
  {
   "cell_type": "markdown",
   "metadata": {},
   "source": [
    "# Load python packages for data handling and plotting"
   ]
  },
  {
   "cell_type": "code",
   "execution_count": 67,
   "metadata": {},
   "outputs": [],
   "source": [
    "import pandas as pd\n",
    "import numpy as np\n",
    "\n",
    "import matplotlib as mpl\n",
    "import matplotlib.pyplot as plt\n",
    "from matplotlib.colors import LogNorm\n",
    "from mpl_toolkits.mplot3d import Axes3D # for 3D plotting\n",
    "mpl.rcParams['image.cmap'] = 'hot_r' # change default color map\n",
    "\n",
    "%matplotlib inline"
   ]
  },
  {
   "cell_type": "markdown",
   "metadata": {},
   "source": [
    "Uproot package for ROOT > numpy data conversion: https://github.com/scikit-hep/uproot"
   ]
  },
  {
   "cell_type": "code",
   "execution_count": 68,
   "metadata": {},
   "outputs": [],
   "source": [
    "import uproot\n",
    "import uproot._connect.to_pandas # load the pandas connection"
   ]
  },
  {
   "cell_type": "markdown",
   "metadata": {},
   "source": [
    "Load some statistics function"
   ]
  },
  {
   "cell_type": "code",
   "execution_count": 69,
   "metadata": {},
   "outputs": [],
   "source": [
    "from scipy.optimize import curve_fit\n",
    "from scipy.stats import binned_statistic, iqr, norm"
   ]
  },
  {
   "cell_type": "markdown",
   "metadata": {},
   "source": [
    "Increase default font size"
   ]
  },
  {
   "cell_type": "code",
   "execution_count": 70,
   "metadata": {},
   "outputs": [],
   "source": [
    "font = {'size'   : 16}\n",
    "mpl.rc('font', **font)"
   ]
  },
  {
   "cell_type": "markdown",
   "metadata": {},
   "source": [
    "## Load input data"
   ]
  },
  {
   "cell_type": "code",
   "execution_count": 71,
   "metadata": {},
   "outputs": [],
   "source": [
    "file_name = \"https://alobanov.web.cern.ch/alobanov/public/HGCAL_TBOct2018_ntuple_run_925.root\"\n",
    "#file_name = \"https://alobanov.web.cern.ch/alobanov/public/ntuple_636.root\"\n",
    "file_content = uproot.open(file_name)"
   ]
  },
  {
   "cell_type": "markdown",
   "metadata": {},
   "source": [
    "Inspect file content (ROOT TTrees)"
   ]
  },
  {
   "cell_type": "code",
   "execution_count": 72,
   "metadata": {},
   "outputs": [
    {
     "data": {
      "text/plain": [
       "['rechitntupler;1',\n",
       " 'rechitntupler/hits;6',\n",
       " 'rechitntupler/hits;5',\n",
       " 'trackimpactntupler;1',\n",
       " 'trackimpactntupler/impactPoints;1',\n",
       " 'XCETntupler;1',\n",
       " 'XCETntupler/XCET;1',\n",
       " 'MCPntupler;1',\n",
       " 'MCPntupler/MCP;1']"
      ]
     },
     "execution_count": 72,
     "metadata": {},
     "output_type": "execute_result"
    }
   ],
   "source": [
    "file_content.allkeys()"
   ]
  },
  {
   "cell_type": "markdown",
   "metadata": {},
   "source": [
    "## Load HGCAL data into pandas dataframe"
   ]
  },
  {
   "cell_type": "code",
   "execution_count": 73,
   "metadata": {},
   "outputs": [],
   "source": [
    "hits = file_content[\"rechitntupler/hits\"]"
   ]
  },
  {
   "cell_type": "code",
   "execution_count": 74,
   "metadata": {},
   "outputs": [],
   "source": [
    "# Select branches\n",
    "branches = ['event', 'run',\n",
    "            'rechit_layer', 'rechit_x', 'rechit_y', 'rechit_z',\n",
    "            'rechit_noise_flag','rechit_energy']"
   ]
  },
  {
   "cell_type": "code",
   "execution_count": 75,
   "metadata": {},
   "outputs": [],
   "source": [
    "cache = {} # cache data"
   ]
  },
  {
   "cell_type": "markdown",
   "metadata": {},
   "source": [
    "Flatten means: one 'hit' per row"
   ]
  },
  {
   "cell_type": "code",
   "execution_count": 76,
   "metadata": {},
   "outputs": [
    {
     "name": "stdout",
     "output_type": "stream",
     "text": [
      "CPU times: user 15 s, sys: 1.43 s, total: 16.5 s\n",
      "Wall time: 1min 11s\n"
     ]
    }
   ],
   "source": [
    "%%time\n",
    "df_hits = hits.pandas.df(branches, cache = cache, entrystop = 1000, flatten = True)"
   ]
  },
  {
   "cell_type": "code",
   "execution_count": 77,
   "metadata": {},
   "outputs": [
    {
     "name": "stdout",
     "output_type": "stream",
     "text": [
      "<class 'pandas.core.frame.DataFrame'>\n",
      "MultiIndex: 948644 entries, (0, 0) to (999, 948)\n",
      "Data columns (total 8 columns):\n",
      "event                948644 non-null uint32\n",
      "run                  948644 non-null uint32\n",
      "rechit_layer         948644 non-null uint32\n",
      "rechit_x             948644 non-null float32\n",
      "rechit_y             948644 non-null float32\n",
      "rechit_z             948644 non-null float32\n",
      "rechit_noise_flag    948644 non-null bool\n",
      "rechit_energy        948644 non-null float32\n",
      "dtypes: bool(1), float32(4), uint32(3)\n",
      "memory usage: 29.9 MB\n"
     ]
    }
   ],
   "source": [
    "df_hits.info()"
   ]
  },
  {
   "cell_type": "code",
   "execution_count": 78,
   "metadata": {},
   "outputs": [
    {
     "data": {
      "text/html": [
       "<div>\n",
       "<style scoped>\n",
       "    .dataframe tbody tr th:only-of-type {\n",
       "        vertical-align: middle;\n",
       "    }\n",
       "\n",
       "    .dataframe tbody tr th {\n",
       "        vertical-align: top;\n",
       "    }\n",
       "\n",
       "    .dataframe thead th {\n",
       "        text-align: right;\n",
       "    }\n",
       "</style>\n",
       "<table border=\"1\" class=\"dataframe\">\n",
       "  <thead>\n",
       "    <tr style=\"text-align: right;\">\n",
       "      <th></th>\n",
       "      <th></th>\n",
       "      <th>event</th>\n",
       "      <th>run</th>\n",
       "      <th>rechit_layer</th>\n",
       "      <th>rechit_x</th>\n",
       "      <th>rechit_y</th>\n",
       "      <th>rechit_z</th>\n",
       "      <th>rechit_noise_flag</th>\n",
       "      <th>rechit_energy</th>\n",
       "    </tr>\n",
       "    <tr>\n",
       "      <th>entry</th>\n",
       "      <th>subentry</th>\n",
       "      <th></th>\n",
       "      <th></th>\n",
       "      <th></th>\n",
       "      <th></th>\n",
       "      <th></th>\n",
       "      <th></th>\n",
       "      <th></th>\n",
       "      <th></th>\n",
       "    </tr>\n",
       "  </thead>\n",
       "  <tbody>\n",
       "    <tr>\n",
       "      <th rowspan=\"5\" valign=\"top\">0</th>\n",
       "      <th>0</th>\n",
       "      <td>1</td>\n",
       "      <td>925</td>\n",
       "      <td>1</td>\n",
       "      <td>-0.000009</td>\n",
       "      <td>2.250488</td>\n",
       "      <td>13.32</td>\n",
       "      <td>False</td>\n",
       "      <td>4.062109</td>\n",
       "    </tr>\n",
       "    <tr>\n",
       "      <th>1</th>\n",
       "      <td>1</td>\n",
       "      <td>925</td>\n",
       "      <td>1</td>\n",
       "      <td>-0.974487</td>\n",
       "      <td>1.687744</td>\n",
       "      <td>13.32</td>\n",
       "      <td>False</td>\n",
       "      <td>34.071411</td>\n",
       "    </tr>\n",
       "    <tr>\n",
       "      <th>2</th>\n",
       "      <td>1</td>\n",
       "      <td>925</td>\n",
       "      <td>1</td>\n",
       "      <td>-1.948975</td>\n",
       "      <td>2.250488</td>\n",
       "      <td>13.32</td>\n",
       "      <td>False</td>\n",
       "      <td>11.076063</td>\n",
       "    </tr>\n",
       "    <tr>\n",
       "      <th>3</th>\n",
       "      <td>1</td>\n",
       "      <td>925</td>\n",
       "      <td>2</td>\n",
       "      <td>-0.974487</td>\n",
       "      <td>1.687744</td>\n",
       "      <td>14.21</td>\n",
       "      <td>False</td>\n",
       "      <td>62.524364</td>\n",
       "    </tr>\n",
       "    <tr>\n",
       "      <th>4</th>\n",
       "      <td>1</td>\n",
       "      <td>925</td>\n",
       "      <td>2</td>\n",
       "      <td>-1.948975</td>\n",
       "      <td>2.250488</td>\n",
       "      <td>14.21</td>\n",
       "      <td>False</td>\n",
       "      <td>3.603892</td>\n",
       "    </tr>\n",
       "  </tbody>\n",
       "</table>\n",
       "</div>"
      ],
      "text/plain": [
       "                event  run  rechit_layer  rechit_x  rechit_y  rechit_z  \\\n",
       "entry subentry                                                           \n",
       "0     0             1  925             1 -0.000009  2.250488     13.32   \n",
       "      1             1  925             1 -0.974487  1.687744     13.32   \n",
       "      2             1  925             1 -1.948975  2.250488     13.32   \n",
       "      3             1  925             2 -0.974487  1.687744     14.21   \n",
       "      4             1  925             2 -1.948975  2.250488     14.21   \n",
       "\n",
       "                rechit_noise_flag  rechit_energy  \n",
       "entry subentry                                    \n",
       "0     0                     False       4.062109  \n",
       "      1                     False      34.071411  \n",
       "      2                     False      11.076063  \n",
       "      3                     False      62.524364  \n",
       "      4                     False       3.603892  "
      ]
     },
     "execution_count": 78,
     "metadata": {},
     "output_type": "execute_result"
    }
   ],
   "source": [
    "df_hits.head()"
   ]
  },
  {
   "cell_type": "markdown",
   "metadata": {},
   "source": [
    "Filter low-energy hits"
   ]
  },
  {
   "cell_type": "code",
   "execution_count": 79,
   "metadata": {},
   "outputs": [],
   "source": [
    "df_hits = df_hits[df_hits.rechit_energy > 0.5]"
   ]
  },
  {
   "cell_type": "markdown",
   "metadata": {},
   "source": [
    "## Correlations"
   ]
  },
  {
   "cell_type": "code",
   "execution_count": 80,
   "metadata": {},
   "outputs": [],
   "source": [
    "gb_events = df_hits.groupby('event')\n",
    "\n",
    "e_sums = gb_events['rechit_energy'].sum()\n",
    "n_hits = gb_events['rechit_energy'].size()"
   ]
  },
  {
   "cell_type": "code",
   "execution_count": 81,
   "metadata": {},
   "outputs": [
    {
     "data": {
      "text/plain": [
       "[<matplotlib.lines.Line2D at 0x10e5c8990>]"
      ]
     },
     "execution_count": 81,
     "metadata": {},
     "output_type": "execute_result"
    },
    {
     "data": {
      "image/png": "[encoded data removed]",
      "text/plain": [
       "<matplotlib.figure.Figure at 0x10e8dcfd0>"
      ]
     },
     "metadata": {},
     "output_type": "display_data"
    }
   ],
   "source": [
    "plt.plot(e_sums, n_hits, 'o')"
   ]
  },
  {
   "cell_type": "code",
   "execution_count": 82,
   "metadata": {},
   "outputs": [
    {
     "data": {
      "image/png": "[encoded data removed]",
      "text/plain": [
       "<matplotlib.figure.Figure at 0x10e8dc290>"
      ]
     },
     "metadata": {},
     "output_type": "display_data"
    }
   ],
   "source": [
    "sel = abs(e_sums-e_sums.median()) < 3000\n",
    "sel &= abs(n_hits-n_hits.median()) < 400\n",
    "\n",
    "r = plt.hist2d(e_sums[sel], n_hits[sel], 30)\n",
    "#plt.plot(e_sums[sel], n_hits[sel], '.')"
   ]
  },
  {
   "cell_type": "markdown",
   "metadata": {},
   "source": [
    "Correlate layer energies"
   ]
  },
  {
   "cell_type": "code",
   "execution_count": 83,
   "metadata": {},
   "outputs": [
    {
     "data": {
      "image/png": "[encoded data removed]",
      "text/plain": [
       "<matplotlib.figure.Figure at 0x10f789150>"
      ]
     },
     "metadata": {},
     "output_type": "display_data"
    }
   ],
   "source": [
    "sel = df_hits.rechit_layer == 5\n",
    "ene_lay_5 = df_hits[sel].groupby('event')['rechit_energy'].sum()\n",
    "\n",
    "sel = df_hits.rechit_layer == 6\n",
    "ene_lay_6 = df_hits[sel].groupby('event')['rechit_energy'].sum()\n",
    "\n",
    "r = plt.hist2d(ene_lay_5, ene_lay_6, 30)"
   ]
  },
  {
   "cell_type": "code",
   "execution_count": 84,
   "metadata": {},
   "outputs": [
    {
     "data": {
      "text/plain": [
       "[<matplotlib.lines.Line2D at 0x10e5f6610>]"
      ]
     },
     "execution_count": 84,
     "metadata": {},
     "output_type": "execute_result"
    },
    {
     "data": {
      "image/png": "[encoded data removed]",
      "text/plain": [
       "<matplotlib.figure.Figure at 0x10c749c50>"
      ]
     },
     "metadata": {},
     "output_type": "display_data"
    }
   ],
   "source": [
    "x = ene_lay_5\n",
    "y = ene_lay_6\n",
    "\n",
    "x_med, y_med = binned_statistic(x, [x,y], bins = 30, statistic = 'median').statistic\n",
    "\n",
    "plt.hist2d(x,y, 30)\n",
    "plt.plot(x_med, y_med, 'o-')"
   ]
  },
  {
   "cell_type": "markdown",
   "metadata": {},
   "source": [
    "# Add \"tracker\" information"
   ]
  },
  {
   "cell_type": "markdown",
   "metadata": {},
   "source": [
    "We use \"Delay Wire Chambers\" for tracking. Storing the reconsturcted tracks in the same ROOT file:"
   ]
  },
  {
   "cell_type": "code",
   "execution_count": 85,
   "metadata": {},
   "outputs": [],
   "source": [
    "tracks = file_content[\"trackimpactntupler/impactPoints\"]"
   ]
  },
  {
   "cell_type": "code",
   "execution_count": 86,
   "metadata": {},
   "outputs": [],
   "source": [
    "tr_branches = ['event', 'run', 'ntracks','trackChi2_X',\n",
    " 'trackChi2_Y', 'dwcReferenceType', 'm_x', 'm_y', 'b_x', 'b_y']"
   ]
  },
  {
   "cell_type": "code",
   "execution_count": 87,
   "metadata": {},
   "outputs": [
    {
     "name": "stdout",
     "output_type": "stream",
     "text": [
      "CPU times: user 181 ms, sys: 20 ms, total: 201 ms\n",
      "Wall time: 829 ms\n"
     ]
    }
   ],
   "source": [
    "%%time\n",
    "df_tracks = tracks.pandas.df(tr_branches, entrystop = 1000, flatten = True)"
   ]
  },
  {
   "cell_type": "code",
   "execution_count": 88,
   "metadata": {},
   "outputs": [
    {
     "data": {
      "text/html": [
       "<div>\n",
       "<style scoped>\n",
       "    .dataframe tbody tr th:only-of-type {\n",
       "        vertical-align: middle;\n",
       "    }\n",
       "\n",
       "    .dataframe tbody tr th {\n",
       "        vertical-align: top;\n",
       "    }\n",
       "\n",
       "    .dataframe thead th {\n",
       "        text-align: right;\n",
       "    }\n",
       "</style>\n",
       "<table border=\"1\" class=\"dataframe\">\n",
       "  <thead>\n",
       "    <tr style=\"text-align: right;\">\n",
       "      <th></th>\n",
       "      <th>event</th>\n",
       "      <th>run</th>\n",
       "      <th>ntracks</th>\n",
       "      <th>trackChi2_X</th>\n",
       "      <th>trackChi2_Y</th>\n",
       "      <th>dwcReferenceType</th>\n",
       "      <th>m_x</th>\n",
       "      <th>m_y</th>\n",
       "      <th>b_x</th>\n",
       "      <th>b_y</th>\n",
       "    </tr>\n",
       "  </thead>\n",
       "  <tbody>\n",
       "    <tr>\n",
       "      <th>0</th>\n",
       "      <td>1</td>\n",
       "      <td>925</td>\n",
       "      <td>0</td>\n",
       "      <td>-999.000000</td>\n",
       "      <td>-999.000000</td>\n",
       "      <td>0</td>\n",
       "      <td>-999.000000</td>\n",
       "      <td>-999.000000</td>\n",
       "      <td>-999.000000</td>\n",
       "      <td>-999.000000</td>\n",
       "    </tr>\n",
       "    <tr>\n",
       "      <th>1</th>\n",
       "      <td>2</td>\n",
       "      <td>925</td>\n",
       "      <td>1</td>\n",
       "      <td>0.020270</td>\n",
       "      <td>0.053286</td>\n",
       "      <td>13</td>\n",
       "      <td>-0.000408</td>\n",
       "      <td>0.000516</td>\n",
       "      <td>-1.476436</td>\n",
       "      <td>1.135535</td>\n",
       "    </tr>\n",
       "    <tr>\n",
       "      <th>2</th>\n",
       "      <td>3</td>\n",
       "      <td>925</td>\n",
       "      <td>1</td>\n",
       "      <td>2.203852</td>\n",
       "      <td>3.497892</td>\n",
       "      <td>15</td>\n",
       "      <td>-0.000434</td>\n",
       "      <td>0.000449</td>\n",
       "      <td>-0.797085</td>\n",
       "      <td>1.268801</td>\n",
       "    </tr>\n",
       "    <tr>\n",
       "      <th>3</th>\n",
       "      <td>4</td>\n",
       "      <td>925</td>\n",
       "      <td>1</td>\n",
       "      <td>0.711565</td>\n",
       "      <td>2.461902</td>\n",
       "      <td>13</td>\n",
       "      <td>-0.000392</td>\n",
       "      <td>0.000472</td>\n",
       "      <td>-1.077939</td>\n",
       "      <td>1.021026</td>\n",
       "    </tr>\n",
       "    <tr>\n",
       "      <th>4</th>\n",
       "      <td>5</td>\n",
       "      <td>925</td>\n",
       "      <td>1</td>\n",
       "      <td>3.120249</td>\n",
       "      <td>0.378781</td>\n",
       "      <td>15</td>\n",
       "      <td>-0.000321</td>\n",
       "      <td>0.000496</td>\n",
       "      <td>-3.067071</td>\n",
       "      <td>1.602151</td>\n",
       "    </tr>\n",
       "  </tbody>\n",
       "</table>\n",
       "</div>"
      ],
      "text/plain": [
       "   event  run  ntracks  trackChi2_X  trackChi2_Y  dwcReferenceType  \\\n",
       "0      1  925        0  -999.000000  -999.000000                 0   \n",
       "1      2  925        1     0.020270     0.053286                13   \n",
       "2      3  925        1     2.203852     3.497892                15   \n",
       "3      4  925        1     0.711565     2.461902                13   \n",
       "4      5  925        1     3.120249     0.378781                15   \n",
       "\n",
       "          m_x         m_y         b_x         b_y  \n",
       "0 -999.000000 -999.000000 -999.000000 -999.000000  \n",
       "1   -0.000408    0.000516   -1.476436    1.135535  \n",
       "2   -0.000434    0.000449   -0.797085    1.268801  \n",
       "3   -0.000392    0.000472   -1.077939    1.021026  \n",
       "4   -0.000321    0.000496   -3.067071    1.602151  "
      ]
     },
     "execution_count": 88,
     "metadata": {},
     "output_type": "execute_result"
    }
   ],
   "source": [
    "df_tracks.head()"
   ]
  },
  {
   "cell_type": "markdown",
   "metadata": {},
   "source": [
    "Plot the beamspot"
   ]
  },
  {
   "cell_type": "code",
   "execution_count": 89,
   "metadata": {},
   "outputs": [
    {
     "data": {
      "image/png": "[encoded data removed]",
      "text/plain": [
       "<matplotlib.figure.Figure at 0x10e67d290>"
      ]
     },
     "metadata": {},
     "output_type": "display_data"
    }
   ],
   "source": [
    "sel = df_tracks.ntracks == 1\n",
    "r = plt.hist2d(df_tracks[sel].b_x, df_tracks[sel].b_y, 30)"
   ]
  },
  {
   "cell_type": "markdown",
   "metadata": {},
   "source": [
    "Filter events without tracks"
   ]
  },
  {
   "cell_type": "code",
   "execution_count": 90,
   "metadata": {},
   "outputs": [],
   "source": [
    "sel = df_tracks.ntracks == 1\n",
    "df_tracks = df_tracks[sel]"
   ]
  },
  {
   "cell_type": "markdown",
   "metadata": {},
   "source": [
    "# Merge HGC and DWC data frames"
   ]
  },
  {
   "cell_type": "markdown",
   "metadata": {},
   "source": [
    "One can merge different dfs by index or column. In our case we want to merge the events:"
   ]
  },
  {
   "cell_type": "markdown",
   "metadata": {},
   "source": [
    "Set the index of the dfs as event"
   ]
  },
  {
   "cell_type": "code",
   "execution_count": 91,
   "metadata": {},
   "outputs": [],
   "source": [
    "df_hits.set_index('event', inplace = True)\n",
    "df_tracks.set_index('event', inplace = True)"
   ]
  },
  {
   "cell_type": "code",
   "execution_count": 92,
   "metadata": {},
   "outputs": [],
   "source": [
    "df_all = df_hits.join(df_tracks, \n",
    "                      rsuffix = '_dwc', # give a suffix for duplicate columns\n",
    "                      how = 'inner', # only preserve events present in both dfs\n",
    "                     )"
   ]
  },
  {
   "cell_type": "code",
   "execution_count": 93,
   "metadata": {},
   "outputs": [
    {
     "data": {
      "text/html": [
       "<div>\n",
       "<style scoped>\n",
       "    .dataframe tbody tr th:only-of-type {\n",
       "        vertical-align: middle;\n",
       "    }\n",
       "\n",
       "    .dataframe tbody tr th {\n",
       "        vertical-align: top;\n",
       "    }\n",
       "\n",
       "    .dataframe thead th {\n",
       "        text-align: right;\n",
       "    }\n",
       "</style>\n",
       "<table border=\"1\" class=\"dataframe\">\n",
       "  <thead>\n",
       "    <tr style=\"text-align: right;\">\n",
       "      <th></th>\n",
       "      <th>run</th>\n",
       "      <th>rechit_layer</th>\n",
       "      <th>rechit_x</th>\n",
       "      <th>rechit_y</th>\n",
       "      <th>rechit_z</th>\n",
       "      <th>rechit_noise_flag</th>\n",
       "      <th>rechit_energy</th>\n",
       "      <th>run_dwc</th>\n",
       "      <th>ntracks</th>\n",
       "      <th>trackChi2_X</th>\n",
       "      <th>trackChi2_Y</th>\n",
       "      <th>dwcReferenceType</th>\n",
       "      <th>m_x</th>\n",
       "      <th>m_y</th>\n",
       "      <th>b_x</th>\n",
       "      <th>b_y</th>\n",
       "    </tr>\n",
       "    <tr>\n",
       "      <th>event</th>\n",
       "      <th></th>\n",
       "      <th></th>\n",
       "      <th></th>\n",
       "      <th></th>\n",
       "      <th></th>\n",
       "      <th></th>\n",
       "      <th></th>\n",
       "      <th></th>\n",
       "      <th></th>\n",
       "      <th></th>\n",
       "      <th></th>\n",
       "      <th></th>\n",
       "      <th></th>\n",
       "      <th></th>\n",
       "      <th></th>\n",
       "      <th></th>\n",
       "    </tr>\n",
       "  </thead>\n",
       "  <tbody>\n",
       "    <tr>\n",
       "      <th>2</th>\n",
       "      <td>925</td>\n",
       "      <td>1</td>\n",
       "      <td>-0.000009</td>\n",
       "      <td>-1.125244</td>\n",
       "      <td>13.32</td>\n",
       "      <td>False</td>\n",
       "      <td>1.741884</td>\n",
       "      <td>925</td>\n",
       "      <td>1</td>\n",
       "      <td>0.02027</td>\n",
       "      <td>0.053286</td>\n",
       "      <td>13</td>\n",
       "      <td>-0.000408</td>\n",
       "      <td>0.000516</td>\n",
       "      <td>-1.476436</td>\n",
       "      <td>1.135535</td>\n",
       "    </tr>\n",
       "    <tr>\n",
       "      <th>2</th>\n",
       "      <td>925</td>\n",
       "      <td>1</td>\n",
       "      <td>-0.974487</td>\n",
       "      <td>1.687744</td>\n",
       "      <td>13.32</td>\n",
       "      <td>False</td>\n",
       "      <td>63.245773</td>\n",
       "      <td>925</td>\n",
       "      <td>1</td>\n",
       "      <td>0.02027</td>\n",
       "      <td>0.053286</td>\n",
       "      <td>13</td>\n",
       "      <td>-0.000408</td>\n",
       "      <td>0.000516</td>\n",
       "      <td>-1.476436</td>\n",
       "      <td>1.135535</td>\n",
       "    </tr>\n",
       "    <tr>\n",
       "      <th>2</th>\n",
       "      <td>925</td>\n",
       "      <td>1</td>\n",
       "      <td>-0.974487</td>\n",
       "      <td>0.562622</td>\n",
       "      <td>13.32</td>\n",
       "      <td>False</td>\n",
       "      <td>0.564570</td>\n",
       "      <td>925</td>\n",
       "      <td>1</td>\n",
       "      <td>0.02027</td>\n",
       "      <td>0.053286</td>\n",
       "      <td>13</td>\n",
       "      <td>-0.000408</td>\n",
       "      <td>0.000516</td>\n",
       "      <td>-1.476436</td>\n",
       "      <td>1.135535</td>\n",
       "    </tr>\n",
       "    <tr>\n",
       "      <th>2</th>\n",
       "      <td>925</td>\n",
       "      <td>1</td>\n",
       "      <td>-1.948975</td>\n",
       "      <td>1.125244</td>\n",
       "      <td>13.32</td>\n",
       "      <td>False</td>\n",
       "      <td>3.143707</td>\n",
       "      <td>925</td>\n",
       "      <td>1</td>\n",
       "      <td>0.02027</td>\n",
       "      <td>0.053286</td>\n",
       "      <td>13</td>\n",
       "      <td>-0.000408</td>\n",
       "      <td>0.000516</td>\n",
       "      <td>-1.476436</td>\n",
       "      <td>1.135535</td>\n",
       "    </tr>\n",
       "    <tr>\n",
       "      <th>2</th>\n",
       "      <td>925</td>\n",
       "      <td>1</td>\n",
       "      <td>3.897949</td>\n",
       "      <td>2.250488</td>\n",
       "      <td>13.32</td>\n",
       "      <td>False</td>\n",
       "      <td>0.571444</td>\n",
       "      <td>925</td>\n",
       "      <td>1</td>\n",
       "      <td>0.02027</td>\n",
       "      <td>0.053286</td>\n",
       "      <td>13</td>\n",
       "      <td>-0.000408</td>\n",
       "      <td>0.000516</td>\n",
       "      <td>-1.476436</td>\n",
       "      <td>1.135535</td>\n",
       "    </tr>\n",
       "  </tbody>\n",
       "</table>\n",
       "</div>"
      ],
      "text/plain": [
       "       run  rechit_layer  rechit_x  rechit_y  rechit_z  rechit_noise_flag  \\\n",
       "event                                                                       \n",
       "2      925             1 -0.000009 -1.125244     13.32              False   \n",
       "2      925             1 -0.974487  1.687744     13.32              False   \n",
       "2      925             1 -0.974487  0.562622     13.32              False   \n",
       "2      925             1 -1.948975  1.125244     13.32              False   \n",
       "2      925             1  3.897949  2.250488     13.32              False   \n",
       "\n",
       "       rechit_energy  run_dwc  ntracks  trackChi2_X  trackChi2_Y  \\\n",
       "event                                                              \n",
       "2           1.741884      925        1      0.02027     0.053286   \n",
       "2          63.245773      925        1      0.02027     0.053286   \n",
       "2           0.564570      925        1      0.02027     0.053286   \n",
       "2           3.143707      925        1      0.02027     0.053286   \n",
       "2           0.571444      925        1      0.02027     0.053286   \n",
       "\n",
       "       dwcReferenceType       m_x       m_y       b_x       b_y  \n",
       "event                                                            \n",
       "2                    13 -0.000408  0.000516 -1.476436  1.135535  \n",
       "2                    13 -0.000408  0.000516 -1.476436  1.135535  \n",
       "2                    13 -0.000408  0.000516 -1.476436  1.135535  \n",
       "2                    13 -0.000408  0.000516 -1.476436  1.135535  \n",
       "2                    13 -0.000408  0.000516 -1.476436  1.135535  "
      ]
     },
     "execution_count": 93,
     "metadata": {},
     "output_type": "execute_result"
    }
   ],
   "source": [
    "df_all.head()"
   ]
  },
  {
   "cell_type": "markdown",
   "metadata": {},
   "source": [
    "Compute shower barycentre in HGCAL"
   ]
  },
  {
   "cell_type": "code",
   "execution_count": 94,
   "metadata": {},
   "outputs": [],
   "source": [
    "def get_baryX(event):\n",
    "    return np.sum(event.rechit_x * event.rechit_energy) / event.rechit_energy.sum()\n",
    "\n",
    "def get_baryY(event):\n",
    "    return np.sum(event.rechit_y * event.rechit_energy) / event.rechit_energy.sum()"
   ]
  },
  {
   "cell_type": "code",
   "execution_count": 95,
   "metadata": {},
   "outputs": [],
   "source": [
    "gb_event = df_all.groupby('event')\n",
    "baryX = gb_event.apply(get_baryX)\n",
    "baryY = gb_event.apply(get_baryY)"
   ]
  },
  {
   "cell_type": "code",
   "execution_count": 120,
   "metadata": {},
   "outputs": [
    {
     "data": {
      "image/png": "[encoded data removed]",
      "text/plain": [
       "<matplotlib.figure.Figure at 0x10fdf04d0>"
      ]
     },
     "metadata": {},
     "output_type": "display_data"
    }
   ],
   "source": [
    "plt.figure(figsize = (12,4))\n",
    "plt.subplot(121)\n",
    "\n",
    "r = plt.hist(baryX, 30, label = 'Bary X')\n",
    "r = plt.hist(baryY, 30, label = 'Bary Y', alpha = .5)\n",
    "\n",
    "plt.legend()\n",
    "\n",
    "plt.subplot(122)\n",
    "\n",
    "r = plt.hist2d(baryX, baryY, 30)"
   ]
  },
  {
   "cell_type": "code",
   "execution_count": 119,
   "metadata": {},
   "outputs": [
    {
     "data": {
      "image/png": "[encoded data removed]",
      "text/plain": [
       "<matplotlib.figure.Figure at 0x10e68ab50>"
      ]
     },
     "metadata": {},
     "output_type": "display_data"
    }
   ],
   "source": [
    "r = plt.hist2d(baryX, df_tracks.b_x, 100)#, norm = LogNorm())"
   ]
  },
  {
   "cell_type": "code",
   "execution_count": 117,
   "metadata": {},
   "outputs": [
    {
     "data": {
      "image/png": "[encoded data removed]",
      "text/plain": [
       "<matplotlib.figure.Figure at 0x10e80f8d0>"
      ]
     },
     "metadata": {},
     "output_type": "display_data"
    }
   ],
   "source": [
    "plt.figure(figsize = (10,6))\n",
    "\n",
    "x = baryX\n",
    "y = df_tracks.b_x\n",
    "x_med, y_med = binned_statistic(x, [x,y], bins = 30, statistic = 'median').statistic\n",
    "plt.plot(x_med, y_med, 'o-', label = 'X coordinate')\n",
    "\n",
    "x = baryY\n",
    "y = df_tracks.b_y\n",
    "x_med, y_med = binned_statistic(x, [x,y], bins = 30, statistic = 'median').statistic\n",
    "plt.plot(x_med, y_med, '-.', label = 'Y coordinate')\n",
    "\n",
    "plt.legend()\n",
    "plt.grid()"
   ]
  },
  {
   "cell_type": "code",
   "execution_count": null,
   "metadata": {},
   "outputs": [],
   "source": []
  }
 ],
 "metadata": {
  "kernelspec": {
   "display_name": "Python 2",
   "language": "python",
   "name": "python2"
  },
  "language_info": {
   "codemirror_mode": {
    "name": "ipython",
    "version": 2
   },
   "file_extension": ".py",
   "mimetype": "text/x-python",
   "name": "python",
   "nbconvert_exporter": "python",
   "pygments_lexer": "ipython2",
   "version": "2.7.15"
  }
 },
 "nbformat": 4,
 "nbformat_minor": 2
}
