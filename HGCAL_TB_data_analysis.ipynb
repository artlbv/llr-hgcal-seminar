{
 "cells": [
  {
   "cell_type": "markdown",
   "metadata": {},
   "source": [
    "# Load python packages for data handling and plotting"
   ]
  },
  {
   "cell_type": "code",
   "execution_count": 1,
   "metadata": {},
   "outputs": [],
   "source": [
    "import pandas as pd\n",
    "import numpy as np\n",
    "\n",
    "import matplotlib as mpl\n",
    "import matplotlib.pyplot as plt\n",
    "from matplotlib.colors import LogNorm\n",
    "mpl.rcParams['image.cmap'] = 'hot_r' # change default color map\n",
    "\n",
    "%matplotlib inline"
   ]
  },
  {
   "cell_type": "markdown",
   "metadata": {},
   "source": [
    "Uproot package for ROOT > numpy data conversion: https://github.com/scikit-hep/uproot"
   ]
  },
  {
   "cell_type": "code",
   "execution_count": 2,
   "metadata": {},
   "outputs": [],
   "source": [
    "import uproot\n",
    "import uproot._connect.to_pandas # load the pandas connection"
   ]
  },
  {
   "cell_type": "markdown",
   "metadata": {},
   "source": [
    "Load some statistics function"
   ]
  },
  {
   "cell_type": "code",
   "execution_count": 3,
   "metadata": {},
   "outputs": [],
   "source": [
    "from scipy.optimize import curve_fit\n",
    "from scipy.stats import binned_statistic#, binned_statistic_2d\n",
    "from scipy.special import erf\n",
    "from scipy.stats import iqr\n",
    "from scipy.stats import norm"
   ]
  },
  {
   "cell_type": "markdown",
   "metadata": {},
   "source": [
    "Increase default font size"
   ]
  },
  {
   "cell_type": "code",
   "execution_count": 4,
   "metadata": {},
   "outputs": [],
   "source": [
    "font = {'size'   : 16}\n",
    "mpl.rc('font', **font)"
   ]
  },
  {
   "cell_type": "markdown",
   "metadata": {},
   "source": [
    "## Load input data"
   ]
  },
  {
   "cell_type": "code",
   "execution_count": 5,
   "metadata": {},
   "outputs": [],
   "source": [
    "file_name = \"https://alobanov.web.cern.ch/alobanov/public/HGCAL_TBOct2018_ntuple_run_925.root\"\n",
    "file_content = uproot.open(file_name)"
   ]
  },
  {
   "cell_type": "markdown",
   "metadata": {},
   "source": [
    "Inspect file content (ROOT TTrees)"
   ]
  },
  {
   "cell_type": "code",
   "execution_count": 6,
   "metadata": {},
   "outputs": [
    {
     "data": {
      "text/plain": [
       "['rechitntupler;1',\n",
       " 'rechitntupler/hits;6',\n",
       " 'rechitntupler/hits;5',\n",
       " 'trackimpactntupler;1',\n",
       " 'trackimpactntupler/impactPoints;1',\n",
       " 'XCETntupler;1',\n",
       " 'XCETntupler/XCET;1',\n",
       " 'MCPntupler;1',\n",
       " 'MCPntupler/MCP;1']"
      ]
     },
     "execution_count": 6,
     "metadata": {},
     "output_type": "execute_result"
    }
   ],
   "source": [
    "file_content.allkeys()"
   ]
  },
  {
   "cell_type": "markdown",
   "metadata": {},
   "source": [
    "Look into HGCAL hit collection"
   ]
  },
  {
   "cell_type": "code",
   "execution_count": 7,
   "metadata": {},
   "outputs": [],
   "source": [
    "hits = file_content[\"rechitntupler/hits\"]"
   ]
  },
  {
   "cell_type": "markdown",
   "metadata": {},
   "source": [
    "List branches"
   ]
  },
  {
   "cell_type": "code",
   "execution_count": 8,
   "metadata": {},
   "outputs": [
    {
     "name": "stdout",
     "output_type": "stream",
     "text": [
      "['event', 'trigger_timestamp', 'run', 'pdgID', 'beamEnergy', 'trueBeamEnergy', 'NRechits', 'rechit_detid', 'rechit_module', 'rechit_layer', 'rechit_chip', 'rechit_channel', 'rechit_type', 'rechit_x', 'rechit_y', 'rechit_z', 'rechit_iu', 'rechit_iv', 'rechit_iU', 'rechit_iV', 'rechit_energy', 'rechit_energy_noHG', 'rechit_amplitudeHigh', 'rechit_amplitudeLow', 'rechit_hg_goodFit', 'rechit_lg_goodFit', 'rechit_hg_saturated', 'rechit_lg_saturated', 'rechit_fully_calibrated', 'rechit_noise_flag', 'rechit_TS2High', 'rechit_TS2Low', 'rechit_TS3High', 'rechit_TS3Low', 'rechit_Tot', 'rechit_toa_calib_flag', 'rechit_toaFall_flag', 'rechit_toaRise_flag', 'rechit_toaFall_norm', 'rechit_toaRise_norm', 'rechit_toaFall_time', 'rechit_toaRise_time', 'rechit_toaFall_corr_time', 'rechit_toaRise_corr_time', 'rechit_calib_time_toaFall', 'rechit_calib_time_toaRise', 'rechit_toaRise', 'rechit_toaFall', 'rechit_timeMaxHG', 'rechit_timeMaxLG']\n"
     ]
    }
   ],
   "source": [
    "print(hits.keys())"
   ]
  },
  {
   "cell_type": "markdown",
   "metadata": {},
   "source": [
    "Inspect event branch (for first 10 events)"
   ]
  },
  {
   "cell_type": "code",
   "execution_count": 9,
   "metadata": {},
   "outputs": [
    {
     "data": {
      "text/plain": [
       "array([ 1,  2,  3,  4,  5,  6,  7,  8,  9, 10], dtype=uint32)"
      ]
     },
     "execution_count": 9,
     "metadata": {},
     "output_type": "execute_result"
    }
   ],
   "source": [
    "hits.array('event', entrystop = 10)"
   ]
  },
  {
   "cell_type": "markdown",
   "metadata": {},
   "source": [
    "Inspect number of rechits per event"
   ]
  },
  {
   "cell_type": "code",
   "execution_count": 10,
   "metadata": {},
   "outputs": [
    {
     "data": {
      "text/plain": [
       "array([946, 894, 956, 955, 931, 936, 909, 983, 920, 941], dtype=uint32)"
      ]
     },
     "execution_count": 10,
     "metadata": {},
     "output_type": "execute_result"
    }
   ],
   "source": [
    "hits.array('NRechits', entrystop = 10)"
   ]
  },
  {
   "cell_type": "code",
   "execution_count": 11,
   "metadata": {},
   "outputs": [
    {
     "data": {
      "text/plain": [
       "<JaggedArray [[4.062109470367432 34.0714111328125 11.07606315612793 ... 0.3786887228488922 0.7171839475631714 0.338591605424881] [1.741884469985962 63.24577331542969 0.5645696520805359 ... 0.4616595208644867 0.757352888584137 0.7396867871284485] [1.1983237266540527 3.3835232257843018 25.12059211730957 ... 0.5604773759841919 0.9161921739578247 0.44372689723968506] ... [1.3993617296218872 5.016274452209473 39.39462661743164 ... 2.647599458694458 0.3892793655395508 0.4487347900867462] [10.583016395568848 7.866400241851807 10.396089553833008 ... 0.2879127562046051 0.8451618552207947 0.3566696047782898] [3.6306283473968506 13.055957794189453 1.149782657623291 ... 0.37399154901504517 0.41563186049461365 0.41283759474754333]] at 0x00010baf7550>"
      ]
     },
     "execution_count": 11,
     "metadata": {},
     "output_type": "execute_result"
    }
   ],
   "source": [
    "hits.array('rechit_energy', entrystop = 10)"
   ]
  },
  {
   "cell_type": "markdown",
   "metadata": {},
   "source": [
    "### Dump data into pandas dataframe"
   ]
  },
  {
   "cell_type": "code",
   "execution_count": 12,
   "metadata": {},
   "outputs": [],
   "source": [
    "# Select branches\n",
    "branches = ['event', 'run',\n",
    "            'rechit_layer', 'rechit_x', 'rechit_y', 'rechit_z',\n",
    "            'rechit_noise_flag','rechit_energy']"
   ]
  },
  {
   "cell_type": "code",
   "execution_count": 13,
   "metadata": {},
   "outputs": [],
   "source": [
    "df_hits = hits.pandas.df(branches, entrystop = 100, flatten = False)"
   ]
  },
  {
   "cell_type": "markdown",
   "metadata": {},
   "source": [
    "Check info of loaded dataframe"
   ]
  },
  {
   "cell_type": "code",
   "execution_count": 14,
   "metadata": {},
   "outputs": [
    {
     "name": "stdout",
     "output_type": "stream",
     "text": [
      "<class 'pandas.core.frame.DataFrame'>\n",
      "RangeIndex: 100 entries, 0 to 99\n",
      "Data columns (total 8 columns):\n",
      "event                100 non-null uint32\n",
      "run                  100 non-null uint32\n",
      "rechit_layer         100 non-null object\n",
      "rechit_x             100 non-null object\n",
      "rechit_y             100 non-null object\n",
      "rechit_z             100 non-null object\n",
      "rechit_noise_flag    100 non-null object\n",
      "rechit_energy        100 non-null object\n",
      "dtypes: object(6), uint32(2)\n",
      "memory usage: 5.5+ KB\n"
     ]
    }
   ],
   "source": [
    "df_hits.info()"
   ]
  },
  {
   "cell_type": "code",
   "execution_count": 15,
   "metadata": {},
   "outputs": [
    {
     "data": {
      "text/plain": [
       "Index                 72\n",
       "event                400\n",
       "run                  400\n",
       "rechit_layer         800\n",
       "rechit_x             800\n",
       "rechit_y             800\n",
       "rechit_z             800\n",
       "rechit_noise_flag    800\n",
       "rechit_energy        800\n",
       "dtype: int64"
      ]
     },
     "execution_count": 15,
     "metadata": {},
     "output_type": "execute_result"
    }
   ],
   "source": [
    "df_hits.memory_usage()"
   ]
  },
  {
   "cell_type": "markdown",
   "metadata": {},
   "source": [
    "Look at first 5 entries (rows) of dataframe"
   ]
  },
  {
   "cell_type": "code",
   "execution_count": 16,
   "metadata": {},
   "outputs": [
    {
     "data": {
      "text/html": [
       "<div>\n",
       "<style scoped>\n",
       "    .dataframe tbody tr th:only-of-type {\n",
       "        vertical-align: middle;\n",
       "    }\n",
       "\n",
       "    .dataframe tbody tr th {\n",
       "        vertical-align: top;\n",
       "    }\n",
       "\n",
       "    .dataframe thead th {\n",
       "        text-align: right;\n",
       "    }\n",
       "</style>\n",
       "<table border=\"1\" class=\"dataframe\">\n",
       "  <thead>\n",
       "    <tr style=\"text-align: right;\">\n",
       "      <th></th>\n",
       "      <th>event</th>\n",
       "      <th>run</th>\n",
       "      <th>rechit_layer</th>\n",
       "      <th>rechit_x</th>\n",
       "      <th>rechit_y</th>\n",
       "      <th>rechit_z</th>\n",
       "      <th>rechit_noise_flag</th>\n",
       "      <th>rechit_energy</th>\n",
       "    </tr>\n",
       "  </thead>\n",
       "  <tbody>\n",
       "    <tr>\n",
       "      <th>0</th>\n",
       "      <td>1</td>\n",
       "      <td>925</td>\n",
       "      <td>[1, 1, 1, 2, 2, 2, 2, 2, 2, 3, 3, 3, 3, 3, 3, ...</td>\n",
       "      <td>[-8.996576e-06, -0.9744873, -1.9489746, -0.974...</td>\n",
       "      <td>[2.2504883, 1.6877441, 2.2504883, 1.6877441, 2...</td>\n",
       "      <td>[13.32, 13.32, 13.32, 14.21, 14.21, 14.21, 14....</td>\n",
       "      <td>[False, False, False, False, False, False, Fal...</td>\n",
       "      <td>[4.0621095, 34.07141, 11.076063, 62.524364, 3....</td>\n",
       "    </tr>\n",
       "    <tr>\n",
       "      <th>1</th>\n",
       "      <td>2</td>\n",
       "      <td>925</td>\n",
       "      <td>[1, 1, 1, 1, 1, 1, 2, 2, 2, 2, 2, 2, 2, 2, 2, ...</td>\n",
       "      <td>[-9.002164e-06, -0.9744873, -0.9744873, -1.948...</td>\n",
       "      <td>[-1.1252441, 1.6877441, 0.5626221, 1.1252441, ...</td>\n",
       "      <td>[13.32, 13.32, 13.32, 13.32, 13.32, 13.32, 14....</td>\n",
       "      <td>[False, False, False, False, False, False, Fal...</td>\n",
       "      <td>[1.7418845, 63.245773, 0.56456965, 3.1437073, ...</td>\n",
       "    </tr>\n",
       "    <tr>\n",
       "      <th>2</th>\n",
       "      <td>3</td>\n",
       "      <td>925</td>\n",
       "      <td>[1, 1, 1, 1, 1, 1, 1, 2, 2, 2, 2, 2, 2, 2, 2, ...</td>\n",
       "      <td>[-0.9744873, -1.9489746, -1.9489746, -2.923339...</td>\n",
       "      <td>[1.6877441, 2.2504883, 1.1252441, 2.8129883, 1...</td>\n",
       "      <td>[13.32, 13.32, 13.32, 13.32, 13.32, 13.32, 13....</td>\n",
       "      <td>[False, False, False, False, False, False, Fal...</td>\n",
       "      <td>[1.1983237, 3.3835232, 25.120592, 2.3140147, 3...</td>\n",
       "    </tr>\n",
       "    <tr>\n",
       "      <th>3</th>\n",
       "      <td>4</td>\n",
       "      <td>925</td>\n",
       "      <td>[1, 1, 1, 1, 1, 1, 1, 1, 2, 2, 2, 2, 2, 2, 2, ...</td>\n",
       "      <td>[-9.004027e-06, -0.9744873, -0.9744873, -0.974...</td>\n",
       "      <td>[-2.2504883, -0.5626221, 1.6877441, 0.5626221,...</td>\n",
       "      <td>[13.32, 13.32, 13.32, 13.32, 13.32, 13.32, 13....</td>\n",
       "      <td>[False, False, False, False, False, False, Fal...</td>\n",
       "      <td>[0.95969886, 0.73515594, 56.524765, 1.7035829,...</td>\n",
       "    </tr>\n",
       "    <tr>\n",
       "      <th>4</th>\n",
       "      <td>5</td>\n",
       "      <td>925</td>\n",
       "      <td>[1, 1, 1, 1, 1, 1, 1, 1, 2, 2, 2, 2, 2, 2, 2, ...</td>\n",
       "      <td>[-8.996576e-06, -8.998439e-06, -0.9744873, -0....</td>\n",
       "      <td>[2.2504883, 1.1252441, -0.5626221, 1.6877441, ...</td>\n",
       "      <td>[13.32, 13.32, 13.32, 13.32, 13.32, 13.32, 13....</td>\n",
       "      <td>[False, False, False, False, False, False, Fal...</td>\n",
       "      <td>[1.3940479, 52.03309, 1.0694722, 1.3659339, 1....</td>\n",
       "    </tr>\n",
       "  </tbody>\n",
       "</table>\n",
       "</div>"
      ],
      "text/plain": [
       "   event  run                                       rechit_layer  \\\n",
       "0      1  925  [1, 1, 1, 2, 2, 2, 2, 2, 2, 3, 3, 3, 3, 3, 3, ...   \n",
       "1      2  925  [1, 1, 1, 1, 1, 1, 2, 2, 2, 2, 2, 2, 2, 2, 2, ...   \n",
       "2      3  925  [1, 1, 1, 1, 1, 1, 1, 2, 2, 2, 2, 2, 2, 2, 2, ...   \n",
       "3      4  925  [1, 1, 1, 1, 1, 1, 1, 1, 2, 2, 2, 2, 2, 2, 2, ...   \n",
       "4      5  925  [1, 1, 1, 1, 1, 1, 1, 1, 2, 2, 2, 2, 2, 2, 2, ...   \n",
       "\n",
       "                                            rechit_x  \\\n",
       "0  [-8.996576e-06, -0.9744873, -1.9489746, -0.974...   \n",
       "1  [-9.002164e-06, -0.9744873, -0.9744873, -1.948...   \n",
       "2  [-0.9744873, -1.9489746, -1.9489746, -2.923339...   \n",
       "3  [-9.004027e-06, -0.9744873, -0.9744873, -0.974...   \n",
       "4  [-8.996576e-06, -8.998439e-06, -0.9744873, -0....   \n",
       "\n",
       "                                            rechit_y  \\\n",
       "0  [2.2504883, 1.6877441, 2.2504883, 1.6877441, 2...   \n",
       "1  [-1.1252441, 1.6877441, 0.5626221, 1.1252441, ...   \n",
       "2  [1.6877441, 2.2504883, 1.1252441, 2.8129883, 1...   \n",
       "3  [-2.2504883, -0.5626221, 1.6877441, 0.5626221,...   \n",
       "4  [2.2504883, 1.1252441, -0.5626221, 1.6877441, ...   \n",
       "\n",
       "                                            rechit_z  \\\n",
       "0  [13.32, 13.32, 13.32, 14.21, 14.21, 14.21, 14....   \n",
       "1  [13.32, 13.32, 13.32, 13.32, 13.32, 13.32, 14....   \n",
       "2  [13.32, 13.32, 13.32, 13.32, 13.32, 13.32, 13....   \n",
       "3  [13.32, 13.32, 13.32, 13.32, 13.32, 13.32, 13....   \n",
       "4  [13.32, 13.32, 13.32, 13.32, 13.32, 13.32, 13....   \n",
       "\n",
       "                                   rechit_noise_flag  \\\n",
       "0  [False, False, False, False, False, False, Fal...   \n",
       "1  [False, False, False, False, False, False, Fal...   \n",
       "2  [False, False, False, False, False, False, Fal...   \n",
       "3  [False, False, False, False, False, False, Fal...   \n",
       "4  [False, False, False, False, False, False, Fal...   \n",
       "\n",
       "                                       rechit_energy  \n",
       "0  [4.0621095, 34.07141, 11.076063, 62.524364, 3....  \n",
       "1  [1.7418845, 63.245773, 0.56456965, 3.1437073, ...  \n",
       "2  [1.1983237, 3.3835232, 25.120592, 2.3140147, 3...  \n",
       "3  [0.95969886, 0.73515594, 56.524765, 1.7035829,...  \n",
       "4  [1.3940479, 52.03309, 1.0694722, 1.3659339, 1....  "
      ]
     },
     "execution_count": 16,
     "metadata": {},
     "output_type": "execute_result"
    }
   ],
   "source": [
    "df_hits.head()"
   ]
  },
  {
   "cell_type": "code",
   "execution_count": 17,
   "metadata": {},
   "outputs": [
    {
     "name": "stdout",
     "output_type": "stream",
     "text": [
      "1\n",
      "2\n",
      "3\n",
      "4\n",
      "5\n",
      "6\n",
      "7\n",
      "8\n",
      "9\n",
      "10\n"
     ]
    }
   ],
   "source": [
    "for event_id in df_hits.index[:10]:\n",
    "    print(df_hits.iloc[event_id]['event'])"
   ]
  },
  {
   "cell_type": "code",
   "execution_count": 18,
   "metadata": {},
   "outputs": [],
   "source": [
    "e_sums = []\n",
    "for event_id in df_hits.index:\n",
    "     e_sums.append(df_hits.iloc[event_id]['rechit_energy'].sum())"
   ]
  },
  {
   "cell_type": "code",
   "execution_count": 19,
   "metadata": {},
   "outputs": [
    {
     "data": {
      "text/plain": [
       "[14733.342, 14277.979, 14161.652, 14396.922, 14590.366]"
      ]
     },
     "execution_count": 19,
     "metadata": {},
     "output_type": "execute_result"
    }
   ],
   "source": [
    "e_sums[:5]"
   ]
  },
  {
   "cell_type": "code",
   "execution_count": 20,
   "metadata": {},
   "outputs": [
    {
     "data": {
      "image/png": "[encoded data removed]",
      "text/plain": [
       "<matplotlib.figure.Figure at 0x10bd47dd0>"
      ]
     },
     "metadata": {},
     "output_type": "display_data"
    }
   ],
   "source": [
    "ret = plt.hist(e_sums, 50)"
   ]
  },
  {
   "cell_type": "markdown",
   "metadata": {},
   "source": [
    "Select energies above median/2"
   ]
  },
  {
   "cell_type": "code",
   "execution_count": 21,
   "metadata": {},
   "outputs": [],
   "source": [
    "e_sums = np.array(e_sums) # convert to numpy array for easier handling"
   ]
  },
  {
   "cell_type": "code",
   "execution_count": 22,
   "metadata": {},
   "outputs": [
    {
     "data": {
      "image/png": "[encoded data removed]",
      "text/plain": [
       "<matplotlib.figure.Figure at 0x10c7b0c10>"
      ]
     },
     "metadata": {},
     "output_type": "display_data"
    }
   ],
   "source": [
    "# create mask\n",
    "sel = e_sums > np.median(e_sums)/2.\n",
    "\n",
    "# apply mask: \n",
    "x = e_sums[sel]\n",
    "ret = plt.hist(x, 20)"
   ]
  },
  {
   "cell_type": "markdown",
   "metadata": {},
   "source": [
    "### Flatten array"
   ]
  },
  {
   "cell_type": "markdown",
   "metadata": {},
   "source": [
    "Flatten means: one 'hit' per row"
   ]
  },
  {
   "cell_type": "code",
   "execution_count": 23,
   "metadata": {},
   "outputs": [
    {
     "name": "stdout",
     "output_type": "stream",
     "text": [
      "CPU times: user 58 ms, sys: 5.45 ms, total: 63.4 ms\n",
      "Wall time: 69.9 ms\n"
     ]
    }
   ],
   "source": [
    "%%time\n",
    "df_hits = hits.pandas.df(branches, entrystop = 100, flatten = True)"
   ]
  },
  {
   "cell_type": "markdown",
   "metadata": {},
   "source": [
    "The size of the DF increases due to the different handling of the data"
   ]
  },
  {
   "cell_type": "code",
   "execution_count": 24,
   "metadata": {},
   "outputs": [
    {
     "name": "stdout",
     "output_type": "stream",
     "text": [
      "<class 'pandas.core.frame.DataFrame'>\n",
      "MultiIndex: 95146 entries, (0, 0) to (99, 924)\n",
      "Data columns (total 8 columns):\n",
      "event                95146 non-null uint32\n",
      "run                  95146 non-null uint32\n",
      "rechit_layer         95146 non-null uint32\n",
      "rechit_x             95146 non-null float32\n",
      "rechit_y             95146 non-null float32\n",
      "rechit_z             95146 non-null float32\n",
      "rechit_noise_flag    95146 non-null bool\n",
      "rechit_energy        95146 non-null float32\n",
      "dtypes: bool(1), float32(4), uint32(3)\n",
      "memory usage: 2.9 MB\n"
     ]
    }
   ],
   "source": [
    "df_hits.info()"
   ]
  },
  {
   "cell_type": "code",
   "execution_count": 25,
   "metadata": {},
   "outputs": [
    {
     "data": {
      "text/html": [
       "<div>\n",
       "<style scoped>\n",
       "    .dataframe tbody tr th:only-of-type {\n",
       "        vertical-align: middle;\n",
       "    }\n",
       "\n",
       "    .dataframe tbody tr th {\n",
       "        vertical-align: top;\n",
       "    }\n",
       "\n",
       "    .dataframe thead th {\n",
       "        text-align: right;\n",
       "    }\n",
       "</style>\n",
       "<table border=\"1\" class=\"dataframe\">\n",
       "  <thead>\n",
       "    <tr style=\"text-align: right;\">\n",
       "      <th></th>\n",
       "      <th></th>\n",
       "      <th>event</th>\n",
       "      <th>run</th>\n",
       "      <th>rechit_layer</th>\n",
       "      <th>rechit_x</th>\n",
       "      <th>rechit_y</th>\n",
       "      <th>rechit_z</th>\n",
       "      <th>rechit_noise_flag</th>\n",
       "      <th>rechit_energy</th>\n",
       "    </tr>\n",
       "    <tr>\n",
       "      <th>entry</th>\n",
       "      <th>subentry</th>\n",
       "      <th></th>\n",
       "      <th></th>\n",
       "      <th></th>\n",
       "      <th></th>\n",
       "      <th></th>\n",
       "      <th></th>\n",
       "      <th></th>\n",
       "      <th></th>\n",
       "    </tr>\n",
       "  </thead>\n",
       "  <tbody>\n",
       "    <tr>\n",
       "      <th rowspan=\"5\" valign=\"top\">0</th>\n",
       "      <th>0</th>\n",
       "      <td>1</td>\n",
       "      <td>925</td>\n",
       "      <td>1</td>\n",
       "      <td>-0.000009</td>\n",
       "      <td>2.250488</td>\n",
       "      <td>13.32</td>\n",
       "      <td>False</td>\n",
       "      <td>4.062109</td>\n",
       "    </tr>\n",
       "    <tr>\n",
       "      <th>1</th>\n",
       "      <td>1</td>\n",
       "      <td>925</td>\n",
       "      <td>1</td>\n",
       "      <td>-0.974487</td>\n",
       "      <td>1.687744</td>\n",
       "      <td>13.32</td>\n",
       "      <td>False</td>\n",
       "      <td>34.071411</td>\n",
       "    </tr>\n",
       "    <tr>\n",
       "      <th>2</th>\n",
       "      <td>1</td>\n",
       "      <td>925</td>\n",
       "      <td>1</td>\n",
       "      <td>-1.948975</td>\n",
       "      <td>2.250488</td>\n",
       "      <td>13.32</td>\n",
       "      <td>False</td>\n",
       "      <td>11.076063</td>\n",
       "    </tr>\n",
       "    <tr>\n",
       "      <th>3</th>\n",
       "      <td>1</td>\n",
       "      <td>925</td>\n",
       "      <td>2</td>\n",
       "      <td>-0.974487</td>\n",
       "      <td>1.687744</td>\n",
       "      <td>14.21</td>\n",
       "      <td>False</td>\n",
       "      <td>62.524364</td>\n",
       "    </tr>\n",
       "    <tr>\n",
       "      <th>4</th>\n",
       "      <td>1</td>\n",
       "      <td>925</td>\n",
       "      <td>2</td>\n",
       "      <td>-1.948975</td>\n",
       "      <td>2.250488</td>\n",
       "      <td>14.21</td>\n",
       "      <td>False</td>\n",
       "      <td>3.603892</td>\n",
       "    </tr>\n",
       "  </tbody>\n",
       "</table>\n",
       "</div>"
      ],
      "text/plain": [
       "                event  run  rechit_layer  rechit_x  rechit_y  rechit_z  \\\n",
       "entry subentry                                                           \n",
       "0     0             1  925             1 -0.000009  2.250488     13.32   \n",
       "      1             1  925             1 -0.974487  1.687744     13.32   \n",
       "      2             1  925             1 -1.948975  2.250488     13.32   \n",
       "      3             1  925             2 -0.974487  1.687744     14.21   \n",
       "      4             1  925             2 -1.948975  2.250488     14.21   \n",
       "\n",
       "                rechit_noise_flag  rechit_energy  \n",
       "entry subentry                                    \n",
       "0     0                     False       4.062109  \n",
       "      1                     False      34.071411  \n",
       "      2                     False      11.076063  \n",
       "      3                     False      62.524364  \n",
       "      4                     False       3.603892  "
      ]
     },
     "execution_count": 25,
     "metadata": {},
     "output_type": "execute_result"
    }
   ],
   "source": [
    "df_hits.head()"
   ]
  },
  {
   "cell_type": "code",
   "execution_count": 26,
   "metadata": {},
   "outputs": [],
   "source": [
    "e_sums_df = df_hits.groupby('event')['rechit_energy'].sum()"
   ]
  },
  {
   "cell_type": "code",
   "execution_count": 27,
   "metadata": {},
   "outputs": [
    {
     "data": {
      "image/png": "[encoded data removed]",
      "text/plain": [
       "<matplotlib.figure.Figure at 0x10bd47190>"
      ]
     },
     "metadata": {},
     "output_type": "display_data"
    }
   ],
   "source": [
    "sel = e_sums_df > e_sums_df.median()/2.\n",
    "r = plt.hist(e_sums_df[sel], 20)"
   ]
  },
  {
   "cell_type": "code",
   "execution_count": null,
   "metadata": {},
   "outputs": [],
   "source": []
  }
 ],
 "metadata": {
  "kernelspec": {
   "display_name": "Python 2",
   "language": "python",
   "name": "python2"
  },
  "language_info": {
   "codemirror_mode": {
    "name": "ipython",
    "version": 2
   },
   "file_extension": ".py",
   "mimetype": "text/x-python",
   "name": "python",
   "nbconvert_exporter": "python",
   "pygments_lexer": "ipython2",
   "version": "2.7.15"
  }
 },
 "nbformat": 4,
 "nbformat_minor": 2
}
